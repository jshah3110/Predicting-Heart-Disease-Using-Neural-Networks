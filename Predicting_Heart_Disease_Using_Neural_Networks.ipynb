{
  "nbformat": 4,
  "nbformat_minor": 0,
  "metadata": {
    "colab": {
      "name": "Predicting Heart Disease using Neural Networks.ipynb",
      "provenance": [],
      "collapsed_sections": []
    },
    "kernelspec": {
      "name": "python3",
      "display_name": "Python 3"
    },
    "language_info": {
      "name": "python"
    }
  },
  "cells": [
    {
      "cell_type": "markdown",
      "metadata": {
        "id": "jpxKtF0LUOQO"
      },
      "source": [
        "# **Predicting Heart Disease using Neural Networks**"
      ]
    },
    {
      "cell_type": "markdown",
      "metadata": {
        "id": "LgClU_JUUUEC"
      },
      "source": [
        "This project focuses on predicting heart disease using neural networks based on features such as blood pressure, cholestoral levels, heart rate, and other characteristic features, patients will be classified according to varying degrees of coronary artery disease. This project utilizes a dataset of 303 patients and is available through the University of California, Irvine Machine learning repository. Here is the URL:\n",
        "\n",
        "http:////archive.ics.uci.edu/ml/datasets/Heart+Disease\n",
        "\n",
        "This dataset contains patient data concerning heart disease diagnosis that was collected at several locations around the world. There are 76 attributes, including age, sex, resting blood pressure, cholestoral levels, echocardiogram data, exercise habits, and many others. To date, all published studies using this data focus on a subset of 14 attributes - so we will do the same. More specifically, we will use the data collected at the Cleveland Clinic Foundation.\n",
        "\n",
        "We have used some common Python libraries, such as pandas, numpy, and matplotlib. Further we have also used sklearn and keras."
      ]
    },
    {
      "cell_type": "code",
      "metadata": {
        "id": "tbzrdQBkUbj-"
      },
      "source": [
        "import sys\n",
        "import pandas as pd\n",
        "from pandas.plotting import scatter_matrix\n",
        "import numpy as np\n",
        "import sklearn\n",
        "import matplotlib\n",
        "import matplotlib.pyplot as plt\n",
        "import seaborn as sns\n",
        "import lux\n",
        "import keras"
      ],
      "execution_count": 42,
      "outputs": []
    },
    {
      "cell_type": "markdown",
      "metadata": {
        "id": "aGx-4D_oVtsi"
      },
      "source": [
        "### 1. Importing the Dataset"
      ]
    },
    {
      "cell_type": "code",
      "metadata": {
        "id": "3lwzdasrfpA7"
      },
      "source": [
        "# importing the dataset\n",
        "url = \"http://archive.ics.uci.edu/ml/machine-learning-databases/heart-disease/processed.cleveland.data\"\n",
        "\n",
        "# renaming the columns in our pandas DataFrame\n",
        "names = ['age',\n",
        "        'sex',\n",
        "        'cp',\n",
        "        'trestbps',\n",
        "        'chol',\n",
        "        'fbs',\n",
        "        'restecg',\n",
        "        'thalach',\n",
        "        'exang',\n",
        "        'oldpeak',\n",
        "        'slope',\n",
        "        'ca',\n",
        "        'thal',\n",
        "        'class']\n",
        "\n",
        "# reading the data\n",
        "cleveland = pd.read_csv(url, names=names)"
      ],
      "execution_count": 28,
      "outputs": []
    },
    {
      "cell_type": "markdown",
      "metadata": {
        "id": "1HvULRkHl7AN"
      },
      "source": [
        "### 2. Exploratory Data Analysis & Feature Engineering"
      ]
    },
    {
      "cell_type": "code",
      "metadata": {
        "colab": {
          "base_uri": "https://localhost:8080/"
        },
        "id": "64m7mE14gMEM",
        "outputId": "23c3c8b3-b289-4617-ba2f-f6d5208976b7"
      },
      "source": [
        "# exploring the dataset\n",
        "cleveland.info(verbose=True)"
      ],
      "execution_count": 25,
      "outputs": [
        {
          "output_type": "stream",
          "text": [
            "<class 'pandas.core.frame.DataFrame'>\n",
            "RangeIndex: 303 entries, 0 to 302\n",
            "Data columns (total 14 columns):\n",
            " #   Column    Non-Null Count  Dtype  \n",
            "---  ------    --------------  -----  \n",
            " 0   age       303 non-null    float64\n",
            " 1   sex       303 non-null    float64\n",
            " 2   cp        303 non-null    float64\n",
            " 3   trestbps  303 non-null    float64\n",
            " 4   chol      303 non-null    float64\n",
            " 5   fbs       303 non-null    float64\n",
            " 6   restecg   303 non-null    float64\n",
            " 7   thalach   303 non-null    float64\n",
            " 8   exang     303 non-null    float64\n",
            " 9   oldpeak   303 non-null    float64\n",
            " 10  slope     303 non-null    float64\n",
            " 11  ca        303 non-null    object \n",
            " 12  thal      303 non-null    object \n",
            " 13  class     303 non-null    int64  \n",
            "dtypes: float64(11), int64(1), object(2)\n",
            "memory usage: 33.3+ KB\n"
          ],
          "name": "stdout"
        }
      ]
    },
    {
      "cell_type": "markdown",
      "metadata": {
        "id": "xii62Ii0lK1k"
      },
      "source": [
        "Looks like there are no missing values in the dataset. Let us check some of the values in the dataset."
      ]
    },
    {
      "cell_type": "code",
      "metadata": {
        "colab": {
          "base_uri": "https://localhost:8080/",
          "height": 359
        },
        "id": "HPzTYlnwinOq",
        "outputId": "61f3106a-da0c-420e-af1f-3da9bbf343f2"
      },
      "source": [
        "cleveland.head(10)"
      ],
      "execution_count": 32,
      "outputs": [
        {
          "output_type": "execute_result",
          "data": {
            "text/html": [
              "<div>\n",
              "<style scoped>\n",
              "    .dataframe tbody tr th:only-of-type {\n",
              "        vertical-align: middle;\n",
              "    }\n",
              "\n",
              "    .dataframe tbody tr th {\n",
              "        vertical-align: top;\n",
              "    }\n",
              "\n",
              "    .dataframe thead th {\n",
              "        text-align: right;\n",
              "    }\n",
              "</style>\n",
              "<table border=\"1\" class=\"dataframe\">\n",
              "  <thead>\n",
              "    <tr style=\"text-align: right;\">\n",
              "      <th></th>\n",
              "      <th>age</th>\n",
              "      <th>sex</th>\n",
              "      <th>cp</th>\n",
              "      <th>trestbps</th>\n",
              "      <th>chol</th>\n",
              "      <th>fbs</th>\n",
              "      <th>restecg</th>\n",
              "      <th>thalach</th>\n",
              "      <th>exang</th>\n",
              "      <th>oldpeak</th>\n",
              "      <th>slope</th>\n",
              "      <th>ca</th>\n",
              "      <th>thal</th>\n",
              "      <th>class</th>\n",
              "    </tr>\n",
              "  </thead>\n",
              "  <tbody>\n",
              "    <tr>\n",
              "      <th>0</th>\n",
              "      <td>63.0</td>\n",
              "      <td>1.0</td>\n",
              "      <td>1.0</td>\n",
              "      <td>145.0</td>\n",
              "      <td>233.0</td>\n",
              "      <td>1.0</td>\n",
              "      <td>2.0</td>\n",
              "      <td>150.0</td>\n",
              "      <td>0.0</td>\n",
              "      <td>2.3</td>\n",
              "      <td>3.0</td>\n",
              "      <td>0.0</td>\n",
              "      <td>6.0</td>\n",
              "      <td>0</td>\n",
              "    </tr>\n",
              "    <tr>\n",
              "      <th>1</th>\n",
              "      <td>67.0</td>\n",
              "      <td>1.0</td>\n",
              "      <td>4.0</td>\n",
              "      <td>160.0</td>\n",
              "      <td>286.0</td>\n",
              "      <td>0.0</td>\n",
              "      <td>2.0</td>\n",
              "      <td>108.0</td>\n",
              "      <td>1.0</td>\n",
              "      <td>1.5</td>\n",
              "      <td>2.0</td>\n",
              "      <td>3.0</td>\n",
              "      <td>3.0</td>\n",
              "      <td>2</td>\n",
              "    </tr>\n",
              "    <tr>\n",
              "      <th>2</th>\n",
              "      <td>67.0</td>\n",
              "      <td>1.0</td>\n",
              "      <td>4.0</td>\n",
              "      <td>120.0</td>\n",
              "      <td>229.0</td>\n",
              "      <td>0.0</td>\n",
              "      <td>2.0</td>\n",
              "      <td>129.0</td>\n",
              "      <td>1.0</td>\n",
              "      <td>2.6</td>\n",
              "      <td>2.0</td>\n",
              "      <td>2.0</td>\n",
              "      <td>7.0</td>\n",
              "      <td>1</td>\n",
              "    </tr>\n",
              "    <tr>\n",
              "      <th>3</th>\n",
              "      <td>37.0</td>\n",
              "      <td>1.0</td>\n",
              "      <td>3.0</td>\n",
              "      <td>130.0</td>\n",
              "      <td>250.0</td>\n",
              "      <td>0.0</td>\n",
              "      <td>0.0</td>\n",
              "      <td>187.0</td>\n",
              "      <td>0.0</td>\n",
              "      <td>3.5</td>\n",
              "      <td>3.0</td>\n",
              "      <td>0.0</td>\n",
              "      <td>3.0</td>\n",
              "      <td>0</td>\n",
              "    </tr>\n",
              "    <tr>\n",
              "      <th>4</th>\n",
              "      <td>41.0</td>\n",
              "      <td>0.0</td>\n",
              "      <td>2.0</td>\n",
              "      <td>130.0</td>\n",
              "      <td>204.0</td>\n",
              "      <td>0.0</td>\n",
              "      <td>2.0</td>\n",
              "      <td>172.0</td>\n",
              "      <td>0.0</td>\n",
              "      <td>1.4</td>\n",
              "      <td>1.0</td>\n",
              "      <td>0.0</td>\n",
              "      <td>3.0</td>\n",
              "      <td>0</td>\n",
              "    </tr>\n",
              "    <tr>\n",
              "      <th>5</th>\n",
              "      <td>56.0</td>\n",
              "      <td>1.0</td>\n",
              "      <td>2.0</td>\n",
              "      <td>120.0</td>\n",
              "      <td>236.0</td>\n",
              "      <td>0.0</td>\n",
              "      <td>0.0</td>\n",
              "      <td>178.0</td>\n",
              "      <td>0.0</td>\n",
              "      <td>0.8</td>\n",
              "      <td>1.0</td>\n",
              "      <td>0.0</td>\n",
              "      <td>3.0</td>\n",
              "      <td>0</td>\n",
              "    </tr>\n",
              "    <tr>\n",
              "      <th>6</th>\n",
              "      <td>62.0</td>\n",
              "      <td>0.0</td>\n",
              "      <td>4.0</td>\n",
              "      <td>140.0</td>\n",
              "      <td>268.0</td>\n",
              "      <td>0.0</td>\n",
              "      <td>2.0</td>\n",
              "      <td>160.0</td>\n",
              "      <td>0.0</td>\n",
              "      <td>3.6</td>\n",
              "      <td>3.0</td>\n",
              "      <td>2.0</td>\n",
              "      <td>3.0</td>\n",
              "      <td>3</td>\n",
              "    </tr>\n",
              "    <tr>\n",
              "      <th>7</th>\n",
              "      <td>57.0</td>\n",
              "      <td>0.0</td>\n",
              "      <td>4.0</td>\n",
              "      <td>120.0</td>\n",
              "      <td>354.0</td>\n",
              "      <td>0.0</td>\n",
              "      <td>0.0</td>\n",
              "      <td>163.0</td>\n",
              "      <td>1.0</td>\n",
              "      <td>0.6</td>\n",
              "      <td>1.0</td>\n",
              "      <td>0.0</td>\n",
              "      <td>3.0</td>\n",
              "      <td>0</td>\n",
              "    </tr>\n",
              "    <tr>\n",
              "      <th>8</th>\n",
              "      <td>63.0</td>\n",
              "      <td>1.0</td>\n",
              "      <td>4.0</td>\n",
              "      <td>130.0</td>\n",
              "      <td>254.0</td>\n",
              "      <td>0.0</td>\n",
              "      <td>2.0</td>\n",
              "      <td>147.0</td>\n",
              "      <td>0.0</td>\n",
              "      <td>1.4</td>\n",
              "      <td>2.0</td>\n",
              "      <td>1.0</td>\n",
              "      <td>7.0</td>\n",
              "      <td>2</td>\n",
              "    </tr>\n",
              "    <tr>\n",
              "      <th>9</th>\n",
              "      <td>53.0</td>\n",
              "      <td>1.0</td>\n",
              "      <td>4.0</td>\n",
              "      <td>140.0</td>\n",
              "      <td>203.0</td>\n",
              "      <td>1.0</td>\n",
              "      <td>2.0</td>\n",
              "      <td>155.0</td>\n",
              "      <td>1.0</td>\n",
              "      <td>3.1</td>\n",
              "      <td>3.0</td>\n",
              "      <td>0.0</td>\n",
              "      <td>7.0</td>\n",
              "      <td>1</td>\n",
              "    </tr>\n",
              "  </tbody>\n",
              "</table>\n",
              "</div>"
            ],
            "text/plain": [
              "    age  sex   cp  trestbps   chol  fbs  ...  exang  oldpeak  slope   ca  thal class\n",
              "0  63.0  1.0  1.0     145.0  233.0  1.0  ...    0.0      2.3    3.0  0.0   6.0     0\n",
              "1  67.0  1.0  4.0     160.0  286.0  0.0  ...    1.0      1.5    2.0  3.0   3.0     2\n",
              "2  67.0  1.0  4.0     120.0  229.0  0.0  ...    1.0      2.6    2.0  2.0   7.0     1\n",
              "3  37.0  1.0  3.0     130.0  250.0  0.0  ...    0.0      3.5    3.0  0.0   3.0     0\n",
              "4  41.0  0.0  2.0     130.0  204.0  0.0  ...    0.0      1.4    1.0  0.0   3.0     0\n",
              "5  56.0  1.0  2.0     120.0  236.0  0.0  ...    0.0      0.8    1.0  0.0   3.0     0\n",
              "6  62.0  0.0  4.0     140.0  268.0  0.0  ...    0.0      3.6    3.0  2.0   3.0     3\n",
              "7  57.0  0.0  4.0     120.0  354.0  0.0  ...    1.0      0.6    1.0  0.0   3.0     0\n",
              "8  63.0  1.0  4.0     130.0  254.0  0.0  ...    0.0      1.4    2.0  1.0   7.0     2\n",
              "9  53.0  1.0  4.0     140.0  203.0  1.0  ...    1.0      3.1    3.0  0.0   7.0     1\n",
              "\n",
              "[10 rows x 14 columns]"
            ]
          },
          "metadata": {
            "tags": []
          },
          "execution_count": 32
        }
      ]
    },
    {
      "cell_type": "markdown",
      "metadata": {
        "id": "h2xJmxn0lmDV"
      },
      "source": [
        "Looks good. However, we will need to convert the \"class\" column values to categorical data when we split the datasets.\n",
        "\n",
        "For now, let us also check the values at the bottom of the dataset."
      ]
    },
    {
      "cell_type": "code",
      "metadata": {
        "colab": {
          "base_uri": "https://localhost:8080/",
          "height": 359
        },
        "id": "z0o6HZNJls4d",
        "outputId": "e207fec4-4c64-4845-8828-a1d7c039566a"
      },
      "source": [
        "cleveland.tail(10)"
      ],
      "execution_count": 33,
      "outputs": [
        {
          "output_type": "execute_result",
          "data": {
            "text/html": [
              "<div>\n",
              "<style scoped>\n",
              "    .dataframe tbody tr th:only-of-type {\n",
              "        vertical-align: middle;\n",
              "    }\n",
              "\n",
              "    .dataframe tbody tr th {\n",
              "        vertical-align: top;\n",
              "    }\n",
              "\n",
              "    .dataframe thead th {\n",
              "        text-align: right;\n",
              "    }\n",
              "</style>\n",
              "<table border=\"1\" class=\"dataframe\">\n",
              "  <thead>\n",
              "    <tr style=\"text-align: right;\">\n",
              "      <th></th>\n",
              "      <th>age</th>\n",
              "      <th>sex</th>\n",
              "      <th>cp</th>\n",
              "      <th>trestbps</th>\n",
              "      <th>chol</th>\n",
              "      <th>fbs</th>\n",
              "      <th>restecg</th>\n",
              "      <th>thalach</th>\n",
              "      <th>exang</th>\n",
              "      <th>oldpeak</th>\n",
              "      <th>slope</th>\n",
              "      <th>ca</th>\n",
              "      <th>thal</th>\n",
              "      <th>class</th>\n",
              "    </tr>\n",
              "  </thead>\n",
              "  <tbody>\n",
              "    <tr>\n",
              "      <th>293</th>\n",
              "      <td>63.0</td>\n",
              "      <td>1.0</td>\n",
              "      <td>4.0</td>\n",
              "      <td>140.0</td>\n",
              "      <td>187.0</td>\n",
              "      <td>0.0</td>\n",
              "      <td>2.0</td>\n",
              "      <td>144.0</td>\n",
              "      <td>1.0</td>\n",
              "      <td>4.0</td>\n",
              "      <td>1.0</td>\n",
              "      <td>2.0</td>\n",
              "      <td>7.0</td>\n",
              "      <td>2</td>\n",
              "    </tr>\n",
              "    <tr>\n",
              "      <th>294</th>\n",
              "      <td>63.0</td>\n",
              "      <td>0.0</td>\n",
              "      <td>4.0</td>\n",
              "      <td>124.0</td>\n",
              "      <td>197.0</td>\n",
              "      <td>0.0</td>\n",
              "      <td>0.0</td>\n",
              "      <td>136.0</td>\n",
              "      <td>1.0</td>\n",
              "      <td>0.0</td>\n",
              "      <td>2.0</td>\n",
              "      <td>0.0</td>\n",
              "      <td>3.0</td>\n",
              "      <td>1</td>\n",
              "    </tr>\n",
              "    <tr>\n",
              "      <th>295</th>\n",
              "      <td>41.0</td>\n",
              "      <td>1.0</td>\n",
              "      <td>2.0</td>\n",
              "      <td>120.0</td>\n",
              "      <td>157.0</td>\n",
              "      <td>0.0</td>\n",
              "      <td>0.0</td>\n",
              "      <td>182.0</td>\n",
              "      <td>0.0</td>\n",
              "      <td>0.0</td>\n",
              "      <td>1.0</td>\n",
              "      <td>0.0</td>\n",
              "      <td>3.0</td>\n",
              "      <td>0</td>\n",
              "    </tr>\n",
              "    <tr>\n",
              "      <th>296</th>\n",
              "      <td>59.0</td>\n",
              "      <td>1.0</td>\n",
              "      <td>4.0</td>\n",
              "      <td>164.0</td>\n",
              "      <td>176.0</td>\n",
              "      <td>1.0</td>\n",
              "      <td>2.0</td>\n",
              "      <td>90.0</td>\n",
              "      <td>0.0</td>\n",
              "      <td>1.0</td>\n",
              "      <td>2.0</td>\n",
              "      <td>2.0</td>\n",
              "      <td>6.0</td>\n",
              "      <td>3</td>\n",
              "    </tr>\n",
              "    <tr>\n",
              "      <th>297</th>\n",
              "      <td>57.0</td>\n",
              "      <td>0.0</td>\n",
              "      <td>4.0</td>\n",
              "      <td>140.0</td>\n",
              "      <td>241.0</td>\n",
              "      <td>0.0</td>\n",
              "      <td>0.0</td>\n",
              "      <td>123.0</td>\n",
              "      <td>1.0</td>\n",
              "      <td>0.2</td>\n",
              "      <td>2.0</td>\n",
              "      <td>0.0</td>\n",
              "      <td>7.0</td>\n",
              "      <td>1</td>\n",
              "    </tr>\n",
              "    <tr>\n",
              "      <th>298</th>\n",
              "      <td>45.0</td>\n",
              "      <td>1.0</td>\n",
              "      <td>1.0</td>\n",
              "      <td>110.0</td>\n",
              "      <td>264.0</td>\n",
              "      <td>0.0</td>\n",
              "      <td>0.0</td>\n",
              "      <td>132.0</td>\n",
              "      <td>0.0</td>\n",
              "      <td>1.2</td>\n",
              "      <td>2.0</td>\n",
              "      <td>0.0</td>\n",
              "      <td>7.0</td>\n",
              "      <td>1</td>\n",
              "    </tr>\n",
              "    <tr>\n",
              "      <th>299</th>\n",
              "      <td>68.0</td>\n",
              "      <td>1.0</td>\n",
              "      <td>4.0</td>\n",
              "      <td>144.0</td>\n",
              "      <td>193.0</td>\n",
              "      <td>1.0</td>\n",
              "      <td>0.0</td>\n",
              "      <td>141.0</td>\n",
              "      <td>0.0</td>\n",
              "      <td>3.4</td>\n",
              "      <td>2.0</td>\n",
              "      <td>2.0</td>\n",
              "      <td>7.0</td>\n",
              "      <td>2</td>\n",
              "    </tr>\n",
              "    <tr>\n",
              "      <th>300</th>\n",
              "      <td>57.0</td>\n",
              "      <td>1.0</td>\n",
              "      <td>4.0</td>\n",
              "      <td>130.0</td>\n",
              "      <td>131.0</td>\n",
              "      <td>0.0</td>\n",
              "      <td>0.0</td>\n",
              "      <td>115.0</td>\n",
              "      <td>1.0</td>\n",
              "      <td>1.2</td>\n",
              "      <td>2.0</td>\n",
              "      <td>1.0</td>\n",
              "      <td>7.0</td>\n",
              "      <td>3</td>\n",
              "    </tr>\n",
              "    <tr>\n",
              "      <th>301</th>\n",
              "      <td>57.0</td>\n",
              "      <td>0.0</td>\n",
              "      <td>2.0</td>\n",
              "      <td>130.0</td>\n",
              "      <td>236.0</td>\n",
              "      <td>0.0</td>\n",
              "      <td>2.0</td>\n",
              "      <td>174.0</td>\n",
              "      <td>0.0</td>\n",
              "      <td>0.0</td>\n",
              "      <td>2.0</td>\n",
              "      <td>1.0</td>\n",
              "      <td>3.0</td>\n",
              "      <td>1</td>\n",
              "    </tr>\n",
              "    <tr>\n",
              "      <th>302</th>\n",
              "      <td>38.0</td>\n",
              "      <td>1.0</td>\n",
              "      <td>3.0</td>\n",
              "      <td>138.0</td>\n",
              "      <td>175.0</td>\n",
              "      <td>0.0</td>\n",
              "      <td>0.0</td>\n",
              "      <td>173.0</td>\n",
              "      <td>0.0</td>\n",
              "      <td>0.0</td>\n",
              "      <td>1.0</td>\n",
              "      <td>?</td>\n",
              "      <td>3.0</td>\n",
              "      <td>0</td>\n",
              "    </tr>\n",
              "  </tbody>\n",
              "</table>\n",
              "</div>"
            ],
            "text/plain": [
              "      age  sex   cp  trestbps   chol  ...  oldpeak  slope   ca  thal  class\n",
              "293  63.0  1.0  4.0     140.0  187.0  ...      4.0    1.0  2.0   7.0      2\n",
              "294  63.0  0.0  4.0     124.0  197.0  ...      0.0    2.0  0.0   3.0      1\n",
              "295  41.0  1.0  2.0     120.0  157.0  ...      0.0    1.0  0.0   3.0      0\n",
              "296  59.0  1.0  4.0     164.0  176.0  ...      1.0    2.0  2.0   6.0      3\n",
              "297  57.0  0.0  4.0     140.0  241.0  ...      0.2    2.0  0.0   7.0      1\n",
              "298  45.0  1.0  1.0     110.0  264.0  ...      1.2    2.0  0.0   7.0      1\n",
              "299  68.0  1.0  4.0     144.0  193.0  ...      3.4    2.0  2.0   7.0      2\n",
              "300  57.0  1.0  4.0     130.0  131.0  ...      1.2    2.0  1.0   7.0      3\n",
              "301  57.0  0.0  2.0     130.0  236.0  ...      0.0    2.0  1.0   3.0      1\n",
              "302  38.0  1.0  3.0     138.0  175.0  ...      0.0    1.0    ?   3.0      0\n",
              "\n",
              "[10 rows x 14 columns]"
            ]
          },
          "metadata": {
            "tags": []
          },
          "execution_count": 33
        }
      ]
    },
    {
      "cell_type": "markdown",
      "metadata": {
        "id": "26BlEibvmKTI"
      },
      "source": [
        "We see that there is a \"?\" value in one of the columns.\n",
        "\n",
        "Let us remove these values from the dataset."
      ]
    },
    {
      "cell_type": "code",
      "metadata": {
        "colab": {
          "base_uri": "https://localhost:8080/",
          "height": 359
        },
        "id": "uz_qKej2mYZ7",
        "outputId": "a825d272-3ac5-45c3-ee28-ab71712ca011"
      },
      "source": [
        "data = cleveland[~cleveland.isin(['?'])]\n",
        "data.tail(10)"
      ],
      "execution_count": 34,
      "outputs": [
        {
          "output_type": "execute_result",
          "data": {
            "text/html": [
              "<div>\n",
              "<style scoped>\n",
              "    .dataframe tbody tr th:only-of-type {\n",
              "        vertical-align: middle;\n",
              "    }\n",
              "\n",
              "    .dataframe tbody tr th {\n",
              "        vertical-align: top;\n",
              "    }\n",
              "\n",
              "    .dataframe thead th {\n",
              "        text-align: right;\n",
              "    }\n",
              "</style>\n",
              "<table border=\"1\" class=\"dataframe\">\n",
              "  <thead>\n",
              "    <tr style=\"text-align: right;\">\n",
              "      <th></th>\n",
              "      <th>age</th>\n",
              "      <th>sex</th>\n",
              "      <th>cp</th>\n",
              "      <th>trestbps</th>\n",
              "      <th>chol</th>\n",
              "      <th>fbs</th>\n",
              "      <th>restecg</th>\n",
              "      <th>thalach</th>\n",
              "      <th>exang</th>\n",
              "      <th>oldpeak</th>\n",
              "      <th>slope</th>\n",
              "      <th>ca</th>\n",
              "      <th>thal</th>\n",
              "      <th>class</th>\n",
              "    </tr>\n",
              "  </thead>\n",
              "  <tbody>\n",
              "    <tr>\n",
              "      <th>293</th>\n",
              "      <td>63.0</td>\n",
              "      <td>1.0</td>\n",
              "      <td>4.0</td>\n",
              "      <td>140.0</td>\n",
              "      <td>187.0</td>\n",
              "      <td>0.0</td>\n",
              "      <td>2.0</td>\n",
              "      <td>144.0</td>\n",
              "      <td>1.0</td>\n",
              "      <td>4.0</td>\n",
              "      <td>1.0</td>\n",
              "      <td>2.0</td>\n",
              "      <td>7.0</td>\n",
              "      <td>2</td>\n",
              "    </tr>\n",
              "    <tr>\n",
              "      <th>294</th>\n",
              "      <td>63.0</td>\n",
              "      <td>0.0</td>\n",
              "      <td>4.0</td>\n",
              "      <td>124.0</td>\n",
              "      <td>197.0</td>\n",
              "      <td>0.0</td>\n",
              "      <td>0.0</td>\n",
              "      <td>136.0</td>\n",
              "      <td>1.0</td>\n",
              "      <td>0.0</td>\n",
              "      <td>2.0</td>\n",
              "      <td>0.0</td>\n",
              "      <td>3.0</td>\n",
              "      <td>1</td>\n",
              "    </tr>\n",
              "    <tr>\n",
              "      <th>295</th>\n",
              "      <td>41.0</td>\n",
              "      <td>1.0</td>\n",
              "      <td>2.0</td>\n",
              "      <td>120.0</td>\n",
              "      <td>157.0</td>\n",
              "      <td>0.0</td>\n",
              "      <td>0.0</td>\n",
              "      <td>182.0</td>\n",
              "      <td>0.0</td>\n",
              "      <td>0.0</td>\n",
              "      <td>1.0</td>\n",
              "      <td>0.0</td>\n",
              "      <td>3.0</td>\n",
              "      <td>0</td>\n",
              "    </tr>\n",
              "    <tr>\n",
              "      <th>296</th>\n",
              "      <td>59.0</td>\n",
              "      <td>1.0</td>\n",
              "      <td>4.0</td>\n",
              "      <td>164.0</td>\n",
              "      <td>176.0</td>\n",
              "      <td>1.0</td>\n",
              "      <td>2.0</td>\n",
              "      <td>90.0</td>\n",
              "      <td>0.0</td>\n",
              "      <td>1.0</td>\n",
              "      <td>2.0</td>\n",
              "      <td>2.0</td>\n",
              "      <td>6.0</td>\n",
              "      <td>3</td>\n",
              "    </tr>\n",
              "    <tr>\n",
              "      <th>297</th>\n",
              "      <td>57.0</td>\n",
              "      <td>0.0</td>\n",
              "      <td>4.0</td>\n",
              "      <td>140.0</td>\n",
              "      <td>241.0</td>\n",
              "      <td>0.0</td>\n",
              "      <td>0.0</td>\n",
              "      <td>123.0</td>\n",
              "      <td>1.0</td>\n",
              "      <td>0.2</td>\n",
              "      <td>2.0</td>\n",
              "      <td>0.0</td>\n",
              "      <td>7.0</td>\n",
              "      <td>1</td>\n",
              "    </tr>\n",
              "    <tr>\n",
              "      <th>298</th>\n",
              "      <td>45.0</td>\n",
              "      <td>1.0</td>\n",
              "      <td>1.0</td>\n",
              "      <td>110.0</td>\n",
              "      <td>264.0</td>\n",
              "      <td>0.0</td>\n",
              "      <td>0.0</td>\n",
              "      <td>132.0</td>\n",
              "      <td>0.0</td>\n",
              "      <td>1.2</td>\n",
              "      <td>2.0</td>\n",
              "      <td>0.0</td>\n",
              "      <td>7.0</td>\n",
              "      <td>1</td>\n",
              "    </tr>\n",
              "    <tr>\n",
              "      <th>299</th>\n",
              "      <td>68.0</td>\n",
              "      <td>1.0</td>\n",
              "      <td>4.0</td>\n",
              "      <td>144.0</td>\n",
              "      <td>193.0</td>\n",
              "      <td>1.0</td>\n",
              "      <td>0.0</td>\n",
              "      <td>141.0</td>\n",
              "      <td>0.0</td>\n",
              "      <td>3.4</td>\n",
              "      <td>2.0</td>\n",
              "      <td>2.0</td>\n",
              "      <td>7.0</td>\n",
              "      <td>2</td>\n",
              "    </tr>\n",
              "    <tr>\n",
              "      <th>300</th>\n",
              "      <td>57.0</td>\n",
              "      <td>1.0</td>\n",
              "      <td>4.0</td>\n",
              "      <td>130.0</td>\n",
              "      <td>131.0</td>\n",
              "      <td>0.0</td>\n",
              "      <td>0.0</td>\n",
              "      <td>115.0</td>\n",
              "      <td>1.0</td>\n",
              "      <td>1.2</td>\n",
              "      <td>2.0</td>\n",
              "      <td>1.0</td>\n",
              "      <td>7.0</td>\n",
              "      <td>3</td>\n",
              "    </tr>\n",
              "    <tr>\n",
              "      <th>301</th>\n",
              "      <td>57.0</td>\n",
              "      <td>0.0</td>\n",
              "      <td>2.0</td>\n",
              "      <td>130.0</td>\n",
              "      <td>236.0</td>\n",
              "      <td>0.0</td>\n",
              "      <td>2.0</td>\n",
              "      <td>174.0</td>\n",
              "      <td>0.0</td>\n",
              "      <td>0.0</td>\n",
              "      <td>2.0</td>\n",
              "      <td>1.0</td>\n",
              "      <td>3.0</td>\n",
              "      <td>1</td>\n",
              "    </tr>\n",
              "    <tr>\n",
              "      <th>302</th>\n",
              "      <td>38.0</td>\n",
              "      <td>1.0</td>\n",
              "      <td>3.0</td>\n",
              "      <td>138.0</td>\n",
              "      <td>175.0</td>\n",
              "      <td>0.0</td>\n",
              "      <td>0.0</td>\n",
              "      <td>173.0</td>\n",
              "      <td>0.0</td>\n",
              "      <td>0.0</td>\n",
              "      <td>1.0</td>\n",
              "      <td>NaN</td>\n",
              "      <td>3.0</td>\n",
              "      <td>0</td>\n",
              "    </tr>\n",
              "  </tbody>\n",
              "</table>\n",
              "</div>"
            ],
            "text/plain": [
              "      age  sex   cp  trestbps   chol  ...  oldpeak  slope   ca  thal  class\n",
              "293  63.0  1.0  4.0     140.0  187.0  ...      4.0    1.0  2.0   7.0      2\n",
              "294  63.0  0.0  4.0     124.0  197.0  ...      0.0    2.0  0.0   3.0      1\n",
              "295  41.0  1.0  2.0     120.0  157.0  ...      0.0    1.0  0.0   3.0      0\n",
              "296  59.0  1.0  4.0     164.0  176.0  ...      1.0    2.0  2.0   6.0      3\n",
              "297  57.0  0.0  4.0     140.0  241.0  ...      0.2    2.0  0.0   7.0      1\n",
              "298  45.0  1.0  1.0     110.0  264.0  ...      1.2    2.0  0.0   7.0      1\n",
              "299  68.0  1.0  4.0     144.0  193.0  ...      3.4    2.0  2.0   7.0      2\n",
              "300  57.0  1.0  4.0     130.0  131.0  ...      1.2    2.0  1.0   7.0      3\n",
              "301  57.0  0.0  2.0     130.0  236.0  ...      0.0    2.0  1.0   3.0      1\n",
              "302  38.0  1.0  3.0     138.0  175.0  ...      0.0    1.0  NaN   3.0      0\n",
              "\n",
              "[10 rows x 14 columns]"
            ]
          },
          "metadata": {
            "tags": []
          },
          "execution_count": 34
        }
      ]
    },
    {
      "cell_type": "markdown",
      "metadata": {
        "id": "zzFNV0AxmgRn"
      },
      "source": [
        "Now that we have removed the \"?\" values from the dataset, let us now drop the rows with these missing NaN values."
      ]
    },
    {
      "cell_type": "code",
      "metadata": {
        "colab": {
          "base_uri": "https://localhost:8080/"
        },
        "id": "RdndgFvdmreP",
        "outputId": "4519321f-c8e7-4987-943f-1ea1e6fef143"
      },
      "source": [
        "data = data.dropna(axis=0)\n",
        "data.info(verbose=True)"
      ],
      "execution_count": 37,
      "outputs": [
        {
          "output_type": "stream",
          "text": [
            "<class 'pandas.core.frame.DataFrame'>\n",
            "Int64Index: 297 entries, 0 to 301\n",
            "Data columns (total 14 columns):\n",
            " #   Column    Non-Null Count  Dtype  \n",
            "---  ------    --------------  -----  \n",
            " 0   age       297 non-null    float64\n",
            " 1   sex       297 non-null    float64\n",
            " 2   cp        297 non-null    float64\n",
            " 3   trestbps  297 non-null    float64\n",
            " 4   chol      297 non-null    float64\n",
            " 5   fbs       297 non-null    float64\n",
            " 6   restecg   297 non-null    float64\n",
            " 7   thalach   297 non-null    float64\n",
            " 8   exang     297 non-null    float64\n",
            " 9   oldpeak   297 non-null    float64\n",
            " 10  slope     297 non-null    float64\n",
            " 11  ca        297 non-null    object \n",
            " 12  thal      297 non-null    object \n",
            " 13  class     297 non-null    int64  \n",
            "dtypes: float64(11), int64(1), object(2)\n",
            "memory usage: 34.8+ KB\n"
          ],
          "name": "stdout"
        }
      ]
    },
    {
      "cell_type": "markdown",
      "metadata": {
        "id": "Ul5pT2c0m6HN"
      },
      "source": [
        "We see that the no. of rows have dropped from 303 to 297 now, meaning 6 rows have been dropped.\n",
        "\n",
        "Now, let us check the datatypes of the features in the dataframe."
      ]
    },
    {
      "cell_type": "code",
      "metadata": {
        "colab": {
          "base_uri": "https://localhost:8080/"
        },
        "id": "1Z48pGG6nEHB",
        "outputId": "b5afaaec-0f22-4643-8659-e372a9cbc745"
      },
      "source": [
        "data.dtypes"
      ],
      "execution_count": 38,
      "outputs": [
        {
          "output_type": "execute_result",
          "data": {
            "text/plain": [
              "age         float64\n",
              "sex         float64\n",
              "cp          float64\n",
              "trestbps    float64\n",
              "chol        float64\n",
              "fbs         float64\n",
              "restecg     float64\n",
              "thalach     float64\n",
              "exang       float64\n",
              "oldpeak     float64\n",
              "slope       float64\n",
              "ca           object\n",
              "thal         object\n",
              "class         int64\n",
              "dtype: object"
            ]
          },
          "metadata": {
            "tags": []
          },
          "execution_count": 38
        }
      ]
    },
    {
      "cell_type": "markdown",
      "metadata": {
        "id": "SCaEY73-nVXP"
      },
      "source": [
        "We see that the features \"ca\" and \"thal\" are object types. Let us convert them to a numeric data format for easier analysis."
      ]
    },
    {
      "cell_type": "code",
      "metadata": {
        "colab": {
          "base_uri": "https://localhost:8080/"
        },
        "id": "GTOus-fLnjwD",
        "outputId": "630738f1-4077-4f6a-fce3-c9755768d69a"
      },
      "source": [
        "data = data.apply(pd.to_numeric)\n",
        "data.dtypes"
      ],
      "execution_count": 39,
      "outputs": [
        {
          "output_type": "execute_result",
          "data": {
            "text/plain": [
              "age         float64\n",
              "sex         float64\n",
              "cp          float64\n",
              "trestbps    float64\n",
              "chol        float64\n",
              "fbs         float64\n",
              "restecg     float64\n",
              "thalach     float64\n",
              "exang       float64\n",
              "oldpeak     float64\n",
              "slope       float64\n",
              "ca          float64\n",
              "thal        float64\n",
              "class         int64\n",
              "dtype: object"
            ]
          },
          "metadata": {
            "tags": []
          },
          "execution_count": 39
        }
      ]
    },
    {
      "cell_type": "markdown",
      "metadata": {
        "id": "QURSmDW8nqK1"
      },
      "source": [
        "Nice! Now let us see some statistics about the dataset using the describe function in pandas."
      ]
    },
    {
      "cell_type": "code",
      "metadata": {
        "colab": {
          "base_uri": "https://localhost:8080/",
          "height": 317
        },
        "id": "aAeUAU-Xny7m",
        "outputId": "b390f29b-8dda-425b-feae-ecb6e7396d77"
      },
      "source": [
        "data.describe()"
      ],
      "execution_count": 40,
      "outputs": [
        {
          "output_type": "execute_result",
          "data": {
            "text/html": [
              "<div>\n",
              "<style scoped>\n",
              "    .dataframe tbody tr th:only-of-type {\n",
              "        vertical-align: middle;\n",
              "    }\n",
              "\n",
              "    .dataframe tbody tr th {\n",
              "        vertical-align: top;\n",
              "    }\n",
              "\n",
              "    .dataframe thead th {\n",
              "        text-align: right;\n",
              "    }\n",
              "</style>\n",
              "<table border=\"1\" class=\"dataframe\">\n",
              "  <thead>\n",
              "    <tr style=\"text-align: right;\">\n",
              "      <th></th>\n",
              "      <th>age</th>\n",
              "      <th>sex</th>\n",
              "      <th>cp</th>\n",
              "      <th>trestbps</th>\n",
              "      <th>chol</th>\n",
              "      <th>fbs</th>\n",
              "      <th>restecg</th>\n",
              "      <th>thalach</th>\n",
              "      <th>exang</th>\n",
              "      <th>oldpeak</th>\n",
              "      <th>slope</th>\n",
              "      <th>ca</th>\n",
              "      <th>thal</th>\n",
              "      <th>class</th>\n",
              "    </tr>\n",
              "  </thead>\n",
              "  <tbody>\n",
              "    <tr>\n",
              "      <th>count</th>\n",
              "      <td>297.000000</td>\n",
              "      <td>297.000000</td>\n",
              "      <td>297.000000</td>\n",
              "      <td>297.000000</td>\n",
              "      <td>297.000000</td>\n",
              "      <td>297.000000</td>\n",
              "      <td>297.000000</td>\n",
              "      <td>297.000000</td>\n",
              "      <td>297.000000</td>\n",
              "      <td>297.000000</td>\n",
              "      <td>297.000000</td>\n",
              "      <td>297.000000</td>\n",
              "      <td>297.000000</td>\n",
              "      <td>297.000000</td>\n",
              "    </tr>\n",
              "    <tr>\n",
              "      <th>mean</th>\n",
              "      <td>54.542088</td>\n",
              "      <td>0.676768</td>\n",
              "      <td>3.158249</td>\n",
              "      <td>131.693603</td>\n",
              "      <td>247.350168</td>\n",
              "      <td>0.144781</td>\n",
              "      <td>0.996633</td>\n",
              "      <td>149.599327</td>\n",
              "      <td>0.326599</td>\n",
              "      <td>1.055556</td>\n",
              "      <td>1.602694</td>\n",
              "      <td>0.676768</td>\n",
              "      <td>4.730640</td>\n",
              "      <td>0.946128</td>\n",
              "    </tr>\n",
              "    <tr>\n",
              "      <th>std</th>\n",
              "      <td>9.049736</td>\n",
              "      <td>0.468500</td>\n",
              "      <td>0.964859</td>\n",
              "      <td>17.762806</td>\n",
              "      <td>51.997583</td>\n",
              "      <td>0.352474</td>\n",
              "      <td>0.994914</td>\n",
              "      <td>22.941562</td>\n",
              "      <td>0.469761</td>\n",
              "      <td>1.166123</td>\n",
              "      <td>0.618187</td>\n",
              "      <td>0.938965</td>\n",
              "      <td>1.938629</td>\n",
              "      <td>1.234551</td>\n",
              "    </tr>\n",
              "    <tr>\n",
              "      <th>min</th>\n",
              "      <td>29.000000</td>\n",
              "      <td>0.000000</td>\n",
              "      <td>1.000000</td>\n",
              "      <td>94.000000</td>\n",
              "      <td>126.000000</td>\n",
              "      <td>0.000000</td>\n",
              "      <td>0.000000</td>\n",
              "      <td>71.000000</td>\n",
              "      <td>0.000000</td>\n",
              "      <td>0.000000</td>\n",
              "      <td>1.000000</td>\n",
              "      <td>0.000000</td>\n",
              "      <td>3.000000</td>\n",
              "      <td>0.000000</td>\n",
              "    </tr>\n",
              "    <tr>\n",
              "      <th>25%</th>\n",
              "      <td>48.000000</td>\n",
              "      <td>0.000000</td>\n",
              "      <td>3.000000</td>\n",
              "      <td>120.000000</td>\n",
              "      <td>211.000000</td>\n",
              "      <td>0.000000</td>\n",
              "      <td>0.000000</td>\n",
              "      <td>133.000000</td>\n",
              "      <td>0.000000</td>\n",
              "      <td>0.000000</td>\n",
              "      <td>1.000000</td>\n",
              "      <td>0.000000</td>\n",
              "      <td>3.000000</td>\n",
              "      <td>0.000000</td>\n",
              "    </tr>\n",
              "    <tr>\n",
              "      <th>50%</th>\n",
              "      <td>56.000000</td>\n",
              "      <td>1.000000</td>\n",
              "      <td>3.000000</td>\n",
              "      <td>130.000000</td>\n",
              "      <td>243.000000</td>\n",
              "      <td>0.000000</td>\n",
              "      <td>1.000000</td>\n",
              "      <td>153.000000</td>\n",
              "      <td>0.000000</td>\n",
              "      <td>0.800000</td>\n",
              "      <td>2.000000</td>\n",
              "      <td>0.000000</td>\n",
              "      <td>3.000000</td>\n",
              "      <td>0.000000</td>\n",
              "    </tr>\n",
              "    <tr>\n",
              "      <th>75%</th>\n",
              "      <td>61.000000</td>\n",
              "      <td>1.000000</td>\n",
              "      <td>4.000000</td>\n",
              "      <td>140.000000</td>\n",
              "      <td>276.000000</td>\n",
              "      <td>0.000000</td>\n",
              "      <td>2.000000</td>\n",
              "      <td>166.000000</td>\n",
              "      <td>1.000000</td>\n",
              "      <td>1.600000</td>\n",
              "      <td>2.000000</td>\n",
              "      <td>1.000000</td>\n",
              "      <td>7.000000</td>\n",
              "      <td>2.000000</td>\n",
              "    </tr>\n",
              "    <tr>\n",
              "      <th>max</th>\n",
              "      <td>77.000000</td>\n",
              "      <td>1.000000</td>\n",
              "      <td>4.000000</td>\n",
              "      <td>200.000000</td>\n",
              "      <td>564.000000</td>\n",
              "      <td>1.000000</td>\n",
              "      <td>2.000000</td>\n",
              "      <td>202.000000</td>\n",
              "      <td>1.000000</td>\n",
              "      <td>6.200000</td>\n",
              "      <td>3.000000</td>\n",
              "      <td>3.000000</td>\n",
              "      <td>7.000000</td>\n",
              "      <td>4.000000</td>\n",
              "    </tr>\n",
              "  </tbody>\n",
              "</table>\n",
              "</div>"
            ],
            "text/plain": [
              "              age         sex          cp  ...          ca        thal       class\n",
              "count  297.000000  297.000000  297.000000  ...  297.000000  297.000000  297.000000\n",
              "mean    54.542088    0.676768    3.158249  ...    0.676768    4.730640    0.946128\n",
              "std      9.049736    0.468500    0.964859  ...    0.938965    1.938629    1.234551\n",
              "min     29.000000    0.000000    1.000000  ...    0.000000    3.000000    0.000000\n",
              "25%     48.000000    0.000000    3.000000  ...    0.000000    3.000000    0.000000\n",
              "50%     56.000000    1.000000    3.000000  ...    0.000000    3.000000    0.000000\n",
              "75%     61.000000    1.000000    4.000000  ...    1.000000    7.000000    2.000000\n",
              "max     77.000000    1.000000    4.000000  ...    3.000000    7.000000    4.000000\n",
              "\n",
              "[8 rows x 14 columns]"
            ]
          },
          "metadata": {
            "tags": []
          },
          "execution_count": 40
        }
      ]
    },
    {
      "cell_type": "markdown",
      "metadata": {
        "id": "QFMAZRPLn8tS"
      },
      "source": [
        "Okay. Now let us also check the distribution of the features.\n",
        "\n",
        "\n",
        "\n"
      ]
    },
    {
      "cell_type": "code",
      "metadata": {
        "colab": {
          "base_uri": "https://localhost:8080/",
          "height": 716
        },
        "id": "maMbEs5ooC6X",
        "outputId": "2207178e-4a65-4e6b-9049-554f247cd35e"
      },
      "source": [
        "data.hist(figsize = (12, 12))\n",
        "plt.show()"
      ],
      "execution_count": 41,
      "outputs": [
        {
          "output_type": "display_data",
          "data": {
            "image/png": "[encoded data removed]",
            "text/plain": [
              "<Figure size 864x864 with 16 Axes>"
            ]
          },
          "metadata": {
            "tags": [],
            "needs_background": "light"
          }
        }
      ]
    },
    {
      "cell_type": "markdown",
      "metadata": {
        "id": "o-Sjbk9EoqRm"
      },
      "source": [
        "Finally, let us check the correlation between the features using a correlation heatmap from seaborn."
      ]
    },
    {
      "cell_type": "code",
      "metadata": {
        "colab": {
          "base_uri": "https://localhost:8080/",
          "height": 317
        },
        "id": "ZAC8noKVo2WT",
        "outputId": "c1ea7b84-c95f-49e1-caa4-f6af414450e3"
      },
      "source": [
        "sns.heatmap(data.corr())"
      ],
      "execution_count": 43,
      "outputs": [
        {
          "output_type": "execute_result",
          "data": {
            "text/plain": [
              "<matplotlib.axes._subplots.AxesSubplot at 0x7fd28fb528d0>"
            ]
          },
          "metadata": {
            "tags": []
          },
          "execution_count": 43
        },
        {
          "output_type": "display_data",
          "data": {
            "image/png": "[encoded data removed]",
            "text/plain": [
              "<Figure size 432x288 with 2 Axes>"
            ]
          },
          "metadata": {
            "tags": [],
            "needs_background": "light"
          }
        }
      ]
    },
    {
      "cell_type": "markdown",
      "metadata": {
        "id": "RGn6u_eBpEIR"
      },
      "source": [
        "The features are mostly loosely correlated. Some of them however have moderate positive correlation and also moderate negative correlation.\n",
        "\n",
        "Now that we are satisfied with our dataset, let us get started with splitting the data."
      ]
    },
    {
      "cell_type": "markdown",
      "metadata": {
        "id": "-5BnUeuhprJD"
      },
      "source": [
        "### 3. Splitting the Data"
      ]
    },
    {
      "cell_type": "markdown",
      "metadata": {
        "id": "mhZMOZfNpynB"
      },
      "source": [
        "For splitting the data into training and test datasets, we will use Sklearn's train_test_split() function to generate a training dataset (80 percent of the total data) and test dataset (20 percent of the total data).\n",
        "\n",
        "Further, as mentioned before, the class values in this dataset contain multiple types of heart disease with values ranging from 0 (healthy) to 4 (severe heart disease). \n",
        "\n",
        "Consequently, we will need to convert our class data to categorical labels."
      ]
    },
    {
      "cell_type": "code",
      "metadata": {
        "id": "NbIxkf4gqnGw"
      },
      "source": [
        "from sklearn import model_selection\n",
        "\n",
        "X = np.array(data.drop(['class'], 1))\n",
        "y = np.array(data['class'])\n",
        "\n",
        "X_train, X_test, y_train, y_test = model_selection.train_test_split(X, y, test_size = 0.2)"
      ],
      "execution_count": 44,
      "outputs": []
    },
    {
      "cell_type": "code",
      "metadata": {
        "colab": {
          "base_uri": "https://localhost:8080/"
        },
        "id": "l8zNFzeQqw4v",
        "outputId": "a34f53a6-36a7-4cd1-d00c-ae3e6e9bda0a"
      },
      "source": [
        "# Now let's convert the \"class\" data to categorical labels\n",
        "from keras.utils.np_utils import to_categorical\n",
        "\n",
        "Y_train = to_categorical(y_train, num_classes=None)\n",
        "Y_test = to_categorical(y_test, num_classes=None)\n",
        "Y_train.shape\n",
        "Y_train[:10]"
      ],
      "execution_count": 48,
      "outputs": [
        {
          "output_type": "execute_result",
          "data": {
            "text/plain": [
              "array([[0., 1., 0., 0., 0.],\n",
              "       [1., 0., 0., 0., 0.],\n",
              "       [0., 0., 0., 0., 1.],\n",
              "       [1., 0., 0., 0., 0.],\n",
              "       [1., 0., 0., 0., 0.],\n",
              "       [1., 0., 0., 0., 0.],\n",
              "       [1., 0., 0., 0., 0.],\n",
              "       [0., 0., 0., 1., 0.],\n",
              "       [1., 0., 0., 0., 0.],\n",
              "       [1., 0., 0., 0., 0.]], dtype=float32)"
            ]
          },
          "metadata": {
            "tags": []
          },
          "execution_count": 48
        }
      ]
    },
    {
      "cell_type": "markdown",
      "metadata": {
        "id": "70blQFQtrYiP"
      },
      "source": [
        "### 4. Building and Training the Neural Network"
      ]
    },
    {
      "cell_type": "markdown",
      "metadata": {
        "id": "iSZsB5JirowS"
      },
      "source": [
        "Now that we have our data fully processed and split into training and test datasets, we can begin building a neural network to solve this classification problem. \n",
        "\n",
        "Using keras, we will define a simple neural network with one hidden layer. Since this is a categorical classification problem, we will use a softmax activation function in the final layer of our network and a categorical_crossentropy loss during our training phase."
      ]
    },
    {
      "cell_type": "code",
      "metadata": {
        "colab": {
          "base_uri": "https://localhost:8080/"
        },
        "id": "tfUcjBHWrtJo",
        "outputId": "ab5e22e2-99b1-47d6-a1d1-c33d4322a676"
      },
      "source": [
        "from keras.models import Sequential\n",
        "from keras.layers import Dense\n",
        "from keras.optimizers import Adam\n",
        "\n",
        "# defining a function to build the keras model\n",
        "def create_model():\n",
        "    # creating model\n",
        "    model = Sequential()\n",
        "    model.add(Dense(8, input_dim=13, kernel_initializer='normal', activation='relu'))\n",
        "    model.add(Dense(4, kernel_initializer='normal', activation='relu'))\n",
        "    model.add(Dense(5, activation='softmax'))\n",
        "    \n",
        "    # compiling model\n",
        "    adam = Adam(lr=0.001)\n",
        "    model.compile(loss='categorical_crossentropy', optimizer=adam, metrics=['accuracy'])\n",
        "    return model\n",
        "\n",
        "model = create_model()\n",
        "\n",
        "print(model.summary())"
      ],
      "execution_count": 49,
      "outputs": [
        {
          "output_type": "stream",
          "text": [
            "Model: \"sequential\"\n",
            "_________________________________________________________________\n",
            "Layer (type)                 Output Shape              Param #   \n",
            "=================================================================\n",
            "dense (Dense)                (None, 8)                 112       \n",
            "_________________________________________________________________\n",
            "dense_1 (Dense)              (None, 4)                 36        \n",
            "_________________________________________________________________\n",
            "dense_2 (Dense)              (None, 5)                 25        \n",
            "=================================================================\n",
            "Total params: 173\n",
            "Trainable params: 173\n",
            "Non-trainable params: 0\n",
            "_________________________________________________________________\n",
            "None\n"
          ],
          "name": "stdout"
        }
      ]
    },
    {
      "cell_type": "code",
      "metadata": {
        "colab": {
          "base_uri": "https://localhost:8080/"
        },
        "id": "_9Fho4xdr3kx",
        "outputId": "8d1cf39a-5243-4796-f302-1073d1ad7fed"
      },
      "source": [
        "# fitting the model to the training data\n",
        "model.fit(X_train, Y_train, epochs=100, batch_size=10, verbose = 1)"
      ],
      "execution_count": 50,
      "outputs": [
        {
          "output_type": "stream",
          "text": [
            "Epoch 1/100\n",
            "24/24 [==============================] - 1s 1ms/step - loss: 1.6188 - accuracy: 0.2232\n",
            "Epoch 2/100\n",
            "24/24 [==============================] - 0s 956us/step - loss: 1.4391 - accuracy: 0.5205\n",
            "Epoch 3/100\n",
            "24/24 [==============================] - 0s 988us/step - loss: 1.3734 - accuracy: 0.5126\n",
            "Epoch 4/100\n",
            "24/24 [==============================] - 0s 985us/step - loss: 1.2863 - accuracy: 0.5400\n",
            "Epoch 5/100\n",
            "24/24 [==============================] - 0s 1ms/step - loss: 1.1846 - accuracy: 0.5677\n",
            "Epoch 6/100\n",
            "24/24 [==============================] - 0s 1ms/step - loss: 1.2488 - accuracy: 0.5241\n",
            "Epoch 7/100\n",
            "24/24 [==============================] - 0s 1ms/step - loss: 1.1938 - accuracy: 0.5488\n",
            "Epoch 8/100\n",
            "24/24 [==============================] - 0s 1ms/step - loss: 1.2474 - accuracy: 0.4853\n",
            "Epoch 9/100\n",
            "24/24 [==============================] - 0s 1ms/step - loss: 1.1501 - accuracy: 0.5486\n",
            "Epoch 10/100\n",
            "24/24 [==============================] - 0s 1ms/step - loss: 1.1944 - accuracy: 0.5029\n",
            "Epoch 11/100\n",
            "24/24 [==============================] - 0s 1ms/step - loss: 1.1197 - accuracy: 0.5645\n",
            "Epoch 12/100\n",
            "24/24 [==============================] - 0s 1ms/step - loss: 1.1659 - accuracy: 0.5324\n",
            "Epoch 13/100\n",
            "24/24 [==============================] - 0s 997us/step - loss: 1.0856 - accuracy: 0.5786\n",
            "Epoch 14/100\n",
            "24/24 [==============================] - 0s 1ms/step - loss: 1.1498 - accuracy: 0.5523\n",
            "Epoch 15/100\n",
            "24/24 [==============================] - 0s 1ms/step - loss: 1.2092 - accuracy: 0.5039\n",
            "Epoch 16/100\n",
            "24/24 [==============================] - 0s 1ms/step - loss: 1.1459 - accuracy: 0.5436\n",
            "Epoch 17/100\n",
            "24/24 [==============================] - 0s 2ms/step - loss: 1.1532 - accuracy: 0.5421\n",
            "Epoch 18/100\n",
            "24/24 [==============================] - 0s 2ms/step - loss: 1.1143 - accuracy: 0.5349\n",
            "Epoch 19/100\n",
            "24/24 [==============================] - 0s 1ms/step - loss: 1.1333 - accuracy: 0.5451\n",
            "Epoch 20/100\n",
            "24/24 [==============================] - 0s 1ms/step - loss: 1.1780 - accuracy: 0.5144\n",
            "Epoch 21/100\n",
            "24/24 [==============================] - 0s 1ms/step - loss: 1.1187 - accuracy: 0.5657\n",
            "Epoch 22/100\n",
            "24/24 [==============================] - 0s 1ms/step - loss: 1.0825 - accuracy: 0.5376\n",
            "Epoch 23/100\n",
            "24/24 [==============================] - 0s 1ms/step - loss: 1.1530 - accuracy: 0.5369\n",
            "Epoch 24/100\n",
            "24/24 [==============================] - 0s 1ms/step - loss: 1.1763 - accuracy: 0.5018\n",
            "Epoch 25/100\n",
            "24/24 [==============================] - 0s 1ms/step - loss: 1.0653 - accuracy: 0.5618\n",
            "Epoch 26/100\n",
            "24/24 [==============================] - 0s 1ms/step - loss: 1.1113 - accuracy: 0.5222\n",
            "Epoch 27/100\n",
            "24/24 [==============================] - 0s 1ms/step - loss: 1.1492 - accuracy: 0.5164\n",
            "Epoch 28/100\n",
            "24/24 [==============================] - 0s 1ms/step - loss: 1.1324 - accuracy: 0.5039\n",
            "Epoch 29/100\n",
            "24/24 [==============================] - 0s 1ms/step - loss: 1.0122 - accuracy: 0.5917\n",
            "Epoch 30/100\n",
            "24/24 [==============================] - 0s 1ms/step - loss: 1.0782 - accuracy: 0.5580\n",
            "Epoch 31/100\n",
            "24/24 [==============================] - 0s 1ms/step - loss: 1.0137 - accuracy: 0.5791\n",
            "Epoch 32/100\n",
            "24/24 [==============================] - 0s 1ms/step - loss: 1.1342 - accuracy: 0.5207\n",
            "Epoch 33/100\n",
            "24/24 [==============================] - 0s 1ms/step - loss: 1.0611 - accuracy: 0.5462\n",
            "Epoch 34/100\n",
            "24/24 [==============================] - 0s 1ms/step - loss: 1.0890 - accuracy: 0.5556\n",
            "Epoch 35/100\n",
            "24/24 [==============================] - 0s 1ms/step - loss: 0.9479 - accuracy: 0.6175\n",
            "Epoch 36/100\n",
            "24/24 [==============================] - 0s 1ms/step - loss: 1.0428 - accuracy: 0.5939\n",
            "Epoch 37/100\n",
            "24/24 [==============================] - 0s 1ms/step - loss: 1.0909 - accuracy: 0.5410\n",
            "Epoch 38/100\n",
            "24/24 [==============================] - 0s 1ms/step - loss: 0.9832 - accuracy: 0.5677\n",
            "Epoch 39/100\n",
            "24/24 [==============================] - 0s 1ms/step - loss: 1.0532 - accuracy: 0.5997\n",
            "Epoch 40/100\n",
            "24/24 [==============================] - 0s 1ms/step - loss: 1.0286 - accuracy: 0.5845\n",
            "Epoch 41/100\n",
            "24/24 [==============================] - 0s 1ms/step - loss: 1.0125 - accuracy: 0.5802\n",
            "Epoch 42/100\n",
            "24/24 [==============================] - 0s 1ms/step - loss: 1.0422 - accuracy: 0.5917\n",
            "Epoch 43/100\n",
            "24/24 [==============================] - 0s 1ms/step - loss: 1.0673 - accuracy: 0.5209\n",
            "Epoch 44/100\n",
            "24/24 [==============================] - 0s 1ms/step - loss: 1.0428 - accuracy: 0.5715\n",
            "Epoch 45/100\n",
            "24/24 [==============================] - 0s 1ms/step - loss: 0.9642 - accuracy: 0.6086\n",
            "Epoch 46/100\n",
            "24/24 [==============================] - 0s 1ms/step - loss: 1.0301 - accuracy: 0.5556\n",
            "Epoch 47/100\n",
            "24/24 [==============================] - 0s 1ms/step - loss: 1.0141 - accuracy: 0.5858\n",
            "Epoch 48/100\n",
            "24/24 [==============================] - 0s 1ms/step - loss: 1.0964 - accuracy: 0.5202\n",
            "Epoch 49/100\n",
            "24/24 [==============================] - 0s 1ms/step - loss: 1.0133 - accuracy: 0.5700\n",
            "Epoch 50/100\n",
            "24/24 [==============================] - 0s 2ms/step - loss: 1.0222 - accuracy: 0.5397\n",
            "Epoch 51/100\n",
            "24/24 [==============================] - 0s 1ms/step - loss: 0.9806 - accuracy: 0.5885\n",
            "Epoch 52/100\n",
            "24/24 [==============================] - 0s 1ms/step - loss: 0.9775 - accuracy: 0.5794\n",
            "Epoch 53/100\n",
            "24/24 [==============================] - 0s 1ms/step - loss: 1.0820 - accuracy: 0.5432\n",
            "Epoch 54/100\n",
            "24/24 [==============================] - 0s 1ms/step - loss: 0.9167 - accuracy: 0.6208\n",
            "Epoch 55/100\n",
            "24/24 [==============================] - 0s 1ms/step - loss: 0.9833 - accuracy: 0.5991\n",
            "Epoch 56/100\n",
            "24/24 [==============================] - 0s 1ms/step - loss: 0.8711 - accuracy: 0.6140\n",
            "Epoch 57/100\n",
            "24/24 [==============================] - 0s 1ms/step - loss: 0.9095 - accuracy: 0.6407\n",
            "Epoch 58/100\n",
            "24/24 [==============================] - 0s 1ms/step - loss: 0.9642 - accuracy: 0.5849\n",
            "Epoch 59/100\n",
            "24/24 [==============================] - 0s 1ms/step - loss: 0.9790 - accuracy: 0.5753\n",
            "Epoch 60/100\n",
            "24/24 [==============================] - 0s 1ms/step - loss: 0.9557 - accuracy: 0.5954\n",
            "Epoch 61/100\n",
            "24/24 [==============================] - 0s 1ms/step - loss: 0.9678 - accuracy: 0.6165\n",
            "Epoch 62/100\n",
            "24/24 [==============================] - 0s 1ms/step - loss: 0.9064 - accuracy: 0.6319\n",
            "Epoch 63/100\n",
            "24/24 [==============================] - 0s 1ms/step - loss: 0.9662 - accuracy: 0.5965\n",
            "Epoch 64/100\n",
            "24/24 [==============================] - 0s 1ms/step - loss: 0.9630 - accuracy: 0.6229\n",
            "Epoch 65/100\n",
            "24/24 [==============================] - 0s 1ms/step - loss: 0.9797 - accuracy: 0.5927\n",
            "Epoch 66/100\n",
            "24/24 [==============================] - 0s 1ms/step - loss: 0.8592 - accuracy: 0.6472\n",
            "Epoch 67/100\n",
            "24/24 [==============================] - 0s 1ms/step - loss: 0.9963 - accuracy: 0.5574\n",
            "Epoch 68/100\n",
            "24/24 [==============================] - 0s 1ms/step - loss: 0.9102 - accuracy: 0.6099\n",
            "Epoch 69/100\n",
            "24/24 [==============================] - 0s 1ms/step - loss: 0.9471 - accuracy: 0.5816\n",
            "Epoch 70/100\n",
            "24/24 [==============================] - 0s 1ms/step - loss: 0.8641 - accuracy: 0.6658\n",
            "Epoch 71/100\n",
            "24/24 [==============================] - 0s 1ms/step - loss: 0.9297 - accuracy: 0.6444\n",
            "Epoch 72/100\n",
            "24/24 [==============================] - 0s 1ms/step - loss: 0.9309 - accuracy: 0.6325\n",
            "Epoch 73/100\n",
            "24/24 [==============================] - 0s 1ms/step - loss: 0.8876 - accuracy: 0.6217\n",
            "Epoch 74/100\n",
            "24/24 [==============================] - 0s 1ms/step - loss: 0.8846 - accuracy: 0.6665\n",
            "Epoch 75/100\n",
            "24/24 [==============================] - 0s 1ms/step - loss: 0.9470 - accuracy: 0.6132\n",
            "Epoch 76/100\n",
            "24/24 [==============================] - 0s 1ms/step - loss: 0.9192 - accuracy: 0.6308\n",
            "Epoch 77/100\n",
            "24/24 [==============================] - 0s 1ms/step - loss: 0.8957 - accuracy: 0.6290\n",
            "Epoch 78/100\n",
            "24/24 [==============================] - 0s 1ms/step - loss: 0.9039 - accuracy: 0.5848\n",
            "Epoch 79/100\n",
            "24/24 [==============================] - 0s 1ms/step - loss: 0.9417 - accuracy: 0.6016\n",
            "Epoch 80/100\n",
            "24/24 [==============================] - 0s 1ms/step - loss: 0.9083 - accuracy: 0.6228\n",
            "Epoch 81/100\n",
            "24/24 [==============================] - 0s 1ms/step - loss: 0.9516 - accuracy: 0.6116\n",
            "Epoch 82/100\n",
            "24/24 [==============================] - 0s 1ms/step - loss: 0.9079 - accuracy: 0.6589\n",
            "Epoch 83/100\n",
            "24/24 [==============================] - 0s 1ms/step - loss: 0.9819 - accuracy: 0.5915\n",
            "Epoch 84/100\n",
            "24/24 [==============================] - 0s 1ms/step - loss: 0.8823 - accuracy: 0.6447\n",
            "Epoch 85/100\n",
            "24/24 [==============================] - 0s 1ms/step - loss: 0.8790 - accuracy: 0.6531\n",
            "Epoch 86/100\n",
            "24/24 [==============================] - 0s 1ms/step - loss: 0.8783 - accuracy: 0.6112\n",
            "Epoch 87/100\n",
            "24/24 [==============================] - 0s 1ms/step - loss: 0.9347 - accuracy: 0.6338\n",
            "Epoch 88/100\n",
            "24/24 [==============================] - 0s 1ms/step - loss: 0.8872 - accuracy: 0.6439\n",
            "Epoch 89/100\n",
            "24/24 [==============================] - 0s 1ms/step - loss: 0.8805 - accuracy: 0.6268\n",
            "Epoch 90/100\n",
            "24/24 [==============================] - 0s 996us/step - loss: 0.9018 - accuracy: 0.6158\n",
            "Epoch 91/100\n",
            "24/24 [==============================] - 0s 1ms/step - loss: 0.9956 - accuracy: 0.5874\n",
            "Epoch 92/100\n",
            "24/24 [==============================] - 0s 1ms/step - loss: 0.9490 - accuracy: 0.6439\n",
            "Epoch 93/100\n",
            "24/24 [==============================] - 0s 1ms/step - loss: 0.9235 - accuracy: 0.6235\n",
            "Epoch 94/100\n",
            "24/24 [==============================] - 0s 1ms/step - loss: 0.8948 - accuracy: 0.6451\n",
            "Epoch 95/100\n",
            "24/24 [==============================] - 0s 1ms/step - loss: 0.9747 - accuracy: 0.6429\n",
            "Epoch 96/100\n",
            "24/24 [==============================] - 0s 1ms/step - loss: 0.8964 - accuracy: 0.6594\n",
            "Epoch 97/100\n",
            "24/24 [==============================] - 0s 1ms/step - loss: 0.9923 - accuracy: 0.5771\n",
            "Epoch 98/100\n",
            "24/24 [==============================] - 0s 1ms/step - loss: 0.9160 - accuracy: 0.6284\n",
            "Epoch 99/100\n",
            "24/24 [==============================] - 0s 1ms/step - loss: 0.9115 - accuracy: 0.6252\n",
            "Epoch 100/100\n",
            "24/24 [==============================] - 0s 1ms/step - loss: 0.9162 - accuracy: 0.6587\n"
          ],
          "name": "stdout"
        },
        {
          "output_type": "execute_result",
          "data": {
            "text/plain": [
              "<tensorflow.python.keras.callbacks.History at 0x7fd2823e39d0>"
            ]
          },
          "metadata": {
            "tags": []
          },
          "execution_count": 50
        }
      ]
    },
    {
      "cell_type": "markdown",
      "metadata": {
        "id": "k54Y9yxesOn-"
      },
      "source": [
        "### 5. Improving Results - A Binary Classification Problem"
      ]
    },
    {
      "cell_type": "markdown",
      "metadata": {
        "id": "WqzcOlXlsZ5G"
      },
      "source": [
        "Although we achieved decent results, we still have a fairly large error. This could be because it is difficult to distinguish between the different severity levels of heart disease (classes 1 - 4). \n",
        "\n",
        "Let us simplify the problem by converting the data to a binary classification problem - whether the patient has a heart disease or no heart disease."
      ]
    },
    {
      "cell_type": "code",
      "metadata": {
        "colab": {
          "base_uri": "https://localhost:8080/"
        },
        "id": "Brzf-t3CskO7",
        "outputId": "47028c22-0cf2-44da-babe-75133af74356"
      },
      "source": [
        "Y_train_binary = y_train.copy()\n",
        "Y_test_binary = y_test.copy()\n",
        "\n",
        "Y_train_binary[Y_train_binary > 0] = 1\n",
        "Y_test_binary[Y_test_binary > 0] = 1\n",
        "\n",
        "Y_train_binary[:20]"
      ],
      "execution_count": 57,
      "outputs": [
        {
          "output_type": "execute_result",
          "data": {
            "text/plain": [
              "array([1, 0, 1, 0, 0, 0, 0, 1, 0, 0, 0, 1, 1, 0, 0, 1, 0, 0, 1, 1])"
            ]
          },
          "metadata": {
            "tags": []
          },
          "execution_count": 57
        }
      ]
    },
    {
      "cell_type": "markdown",
      "metadata": {
        "id": "h6q4sEiit0XY"
      },
      "source": [
        "So now, we have the class values classified into binary values.\n",
        "\n",
        "0 = no heart disease\n",
        "1 = heart disease (but class undefined)"
      ]
    },
    {
      "cell_type": "code",
      "metadata": {
        "colab": {
          "base_uri": "https://localhost:8080/"
        },
        "id": "iqXkIt8buCwT",
        "outputId": "8edb6386-a0a5-4500-c8e3-7bbab18fcc78"
      },
      "source": [
        "# defining a new keras model for binary classification\n",
        "def create_binary_model():\n",
        "    # creating model\n",
        "    model = Sequential()\n",
        "    model.add(Dense(8, input_dim=13, kernel_initializer='normal', activation='relu'))\n",
        "    model.add(Dense(4, kernel_initializer='normal', activation='relu'))\n",
        "    model.add(Dense(1, activation='sigmoid'))\n",
        "    \n",
        "    # compiling model\n",
        "    adam = Adam(lr=0.001)\n",
        "    model.compile(loss='binary_crossentropy', optimizer=adam, metrics=['accuracy'])\n",
        "    return model\n",
        "\n",
        "binary_model = create_binary_model()\n",
        "\n",
        "print(binary_model.summary())"
      ],
      "execution_count": 58,
      "outputs": [
        {
          "output_type": "stream",
          "text": [
            "Model: \"sequential_1\"\n",
            "_________________________________________________________________\n",
            "Layer (type)                 Output Shape              Param #   \n",
            "=================================================================\n",
            "dense_3 (Dense)              (None, 8)                 112       \n",
            "_________________________________________________________________\n",
            "dense_4 (Dense)              (None, 4)                 36        \n",
            "_________________________________________________________________\n",
            "dense_5 (Dense)              (None, 1)                 5         \n",
            "=================================================================\n",
            "Total params: 153\n",
            "Trainable params: 153\n",
            "Non-trainable params: 0\n",
            "_________________________________________________________________\n",
            "None\n"
          ],
          "name": "stdout"
        }
      ]
    },
    {
      "cell_type": "code",
      "metadata": {
        "colab": {
          "base_uri": "https://localhost:8080/"
        },
        "id": "rWyN2po8uMvd",
        "outputId": "fa3b9c15-fc2d-4677-a26d-6f541f6a88c2"
      },
      "source": [
        "# fitting the new binary model on the training data\n",
        "binary_model.fit(X_train, Y_train_binary, epochs=100, batch_size=10, verbose = 1)"
      ],
      "execution_count": 60,
      "outputs": [
        {
          "output_type": "stream",
          "text": [
            "Epoch 1/100\n",
            "24/24 [==============================] - 0s 1ms/step - loss: 1.5897 - accuracy: 0.4556\n",
            "Epoch 2/100\n",
            "24/24 [==============================] - 0s 1ms/step - loss: 0.7264 - accuracy: 0.5420\n",
            "Epoch 3/100\n",
            "24/24 [==============================] - 0s 1ms/step - loss: 0.7232 - accuracy: 0.4476\n",
            "Epoch 4/100\n",
            "24/24 [==============================] - 0s 1ms/step - loss: 0.6899 - accuracy: 0.5030\n",
            "Epoch 5/100\n",
            "24/24 [==============================] - 0s 1ms/step - loss: 0.6826 - accuracy: 0.5684\n",
            "Epoch 6/100\n",
            "24/24 [==============================] - 0s 1ms/step - loss: 0.6811 - accuracy: 0.5337\n",
            "Epoch 7/100\n",
            "24/24 [==============================] - 0s 1ms/step - loss: 0.6739 - accuracy: 0.5439\n",
            "Epoch 8/100\n",
            "24/24 [==============================] - 0s 1ms/step - loss: 0.6496 - accuracy: 0.6334\n",
            "Epoch 9/100\n",
            "24/24 [==============================] - 0s 1ms/step - loss: 0.6328 - accuracy: 0.6838\n",
            "Epoch 10/100\n",
            "24/24 [==============================] - 0s 1ms/step - loss: 0.6289 - accuracy: 0.6672\n",
            "Epoch 11/100\n",
            "24/24 [==============================] - 0s 1ms/step - loss: 0.6429 - accuracy: 0.5994\n",
            "Epoch 12/100\n",
            "24/24 [==============================] - 0s 1ms/step - loss: 0.5842 - accuracy: 0.6828\n",
            "Epoch 13/100\n",
            "24/24 [==============================] - 0s 1ms/step - loss: 0.6056 - accuracy: 0.6851\n",
            "Epoch 14/100\n",
            "24/24 [==============================] - 0s 1ms/step - loss: 0.5829 - accuracy: 0.7471\n",
            "Epoch 15/100\n",
            "24/24 [==============================] - 0s 1ms/step - loss: 0.5506 - accuracy: 0.7691\n",
            "Epoch 16/100\n",
            "24/24 [==============================] - 0s 1ms/step - loss: 0.5411 - accuracy: 0.7550\n",
            "Epoch 17/100\n",
            "24/24 [==============================] - 0s 1ms/step - loss: 0.5416 - accuracy: 0.8015\n",
            "Epoch 18/100\n",
            "24/24 [==============================] - 0s 1ms/step - loss: 0.5073 - accuracy: 0.7679\n",
            "Epoch 19/100\n",
            "24/24 [==============================] - 0s 1ms/step - loss: 0.4950 - accuracy: 0.7507\n",
            "Epoch 20/100\n",
            "24/24 [==============================] - 0s 1ms/step - loss: 0.5074 - accuracy: 0.7860\n",
            "Epoch 21/100\n",
            "24/24 [==============================] - 0s 1ms/step - loss: 0.4641 - accuracy: 0.8045\n",
            "Epoch 22/100\n",
            "24/24 [==============================] - 0s 1ms/step - loss: 0.5339 - accuracy: 0.6949\n",
            "Epoch 23/100\n",
            "24/24 [==============================] - 0s 1ms/step - loss: 0.4464 - accuracy: 0.7847\n",
            "Epoch 24/100\n",
            "24/24 [==============================] - 0s 1ms/step - loss: 0.4721 - accuracy: 0.7664\n",
            "Epoch 25/100\n",
            "24/24 [==============================] - 0s 1ms/step - loss: 0.4608 - accuracy: 0.8018\n",
            "Epoch 26/100\n",
            "24/24 [==============================] - 0s 1ms/step - loss: 0.4816 - accuracy: 0.7785\n",
            "Epoch 27/100\n",
            "24/24 [==============================] - 0s 1ms/step - loss: 0.4105 - accuracy: 0.7963\n",
            "Epoch 28/100\n",
            "24/24 [==============================] - 0s 1ms/step - loss: 0.4439 - accuracy: 0.7646\n",
            "Epoch 29/100\n",
            "24/24 [==============================] - 0s 1ms/step - loss: 0.3913 - accuracy: 0.8342\n",
            "Epoch 30/100\n",
            "24/24 [==============================] - 0s 1ms/step - loss: 0.4837 - accuracy: 0.7568\n",
            "Epoch 31/100\n",
            "24/24 [==============================] - 0s 1ms/step - loss: 0.5349 - accuracy: 0.7586\n",
            "Epoch 32/100\n",
            "24/24 [==============================] - 0s 1ms/step - loss: 0.4349 - accuracy: 0.8110\n",
            "Epoch 33/100\n",
            "24/24 [==============================] - 0s 1ms/step - loss: 0.4278 - accuracy: 0.7911\n",
            "Epoch 34/100\n",
            "24/24 [==============================] - 0s 1ms/step - loss: 0.3897 - accuracy: 0.8430\n",
            "Epoch 35/100\n",
            "24/24 [==============================] - 0s 1ms/step - loss: 0.4306 - accuracy: 0.8248\n",
            "Epoch 36/100\n",
            "24/24 [==============================] - 0s 1ms/step - loss: 0.4753 - accuracy: 0.7615\n",
            "Epoch 37/100\n",
            "24/24 [==============================] - 0s 1ms/step - loss: 0.4415 - accuracy: 0.8073\n",
            "Epoch 38/100\n",
            "24/24 [==============================] - 0s 1ms/step - loss: 0.4175 - accuracy: 0.8494\n",
            "Epoch 39/100\n",
            "24/24 [==============================] - 0s 1ms/step - loss: 0.3943 - accuracy: 0.8496\n",
            "Epoch 40/100\n",
            "24/24 [==============================] - 0s 1ms/step - loss: 0.4552 - accuracy: 0.7809\n",
            "Epoch 41/100\n",
            "24/24 [==============================] - 0s 1ms/step - loss: 0.3903 - accuracy: 0.8642\n",
            "Epoch 42/100\n",
            "24/24 [==============================] - 0s 1ms/step - loss: 0.3977 - accuracy: 0.8453\n",
            "Epoch 43/100\n",
            "24/24 [==============================] - 0s 1ms/step - loss: 0.3770 - accuracy: 0.8606\n",
            "Epoch 44/100\n",
            "24/24 [==============================] - 0s 1ms/step - loss: 0.4038 - accuracy: 0.8356\n",
            "Epoch 45/100\n",
            "24/24 [==============================] - 0s 1ms/step - loss: 0.4166 - accuracy: 0.8206\n",
            "Epoch 46/100\n",
            "24/24 [==============================] - 0s 1ms/step - loss: 0.4152 - accuracy: 0.8252\n",
            "Epoch 47/100\n",
            "24/24 [==============================] - 0s 1ms/step - loss: 0.4370 - accuracy: 0.8230\n",
            "Epoch 48/100\n",
            "24/24 [==============================] - 0s 1ms/step - loss: 0.3842 - accuracy: 0.8127\n",
            "Epoch 49/100\n",
            "24/24 [==============================] - 0s 1ms/step - loss: 0.4284 - accuracy: 0.7962\n",
            "Epoch 50/100\n",
            "24/24 [==============================] - 0s 1ms/step - loss: 0.4110 - accuracy: 0.8383\n",
            "Epoch 51/100\n",
            "24/24 [==============================] - 0s 1ms/step - loss: 0.4774 - accuracy: 0.7947\n",
            "Epoch 52/100\n",
            "24/24 [==============================] - 0s 1ms/step - loss: 0.4121 - accuracy: 0.8037\n",
            "Epoch 53/100\n",
            "24/24 [==============================] - 0s 1ms/step - loss: 0.3742 - accuracy: 0.8121\n",
            "Epoch 54/100\n",
            "24/24 [==============================] - 0s 1ms/step - loss: 0.3911 - accuracy: 0.8255\n",
            "Epoch 55/100\n",
            "24/24 [==============================] - 0s 1ms/step - loss: 0.3459 - accuracy: 0.8692\n",
            "Epoch 56/100\n",
            "24/24 [==============================] - 0s 1ms/step - loss: 0.3413 - accuracy: 0.8709\n",
            "Epoch 57/100\n",
            "24/24 [==============================] - 0s 1ms/step - loss: 0.3571 - accuracy: 0.8216\n",
            "Epoch 58/100\n",
            "24/24 [==============================] - 0s 1ms/step - loss: 0.3715 - accuracy: 0.8586\n",
            "Epoch 59/100\n",
            "24/24 [==============================] - 0s 1ms/step - loss: 0.3479 - accuracy: 0.8831\n",
            "Epoch 60/100\n",
            "24/24 [==============================] - 0s 1ms/step - loss: 0.3940 - accuracy: 0.8077\n",
            "Epoch 61/100\n",
            "24/24 [==============================] - 0s 1ms/step - loss: 0.3816 - accuracy: 0.8583\n",
            "Epoch 62/100\n",
            "24/24 [==============================] - 0s 1ms/step - loss: 0.3787 - accuracy: 0.8213\n",
            "Epoch 63/100\n",
            "24/24 [==============================] - 0s 1ms/step - loss: 0.4209 - accuracy: 0.8019\n",
            "Epoch 64/100\n",
            "24/24 [==============================] - 0s 1ms/step - loss: 0.3751 - accuracy: 0.8619\n",
            "Epoch 65/100\n",
            "24/24 [==============================] - 0s 1ms/step - loss: 0.3631 - accuracy: 0.8462\n",
            "Epoch 66/100\n",
            "24/24 [==============================] - 0s 1ms/step - loss: 0.4366 - accuracy: 0.8157\n",
            "Epoch 67/100\n",
            "24/24 [==============================] - 0s 1ms/step - loss: 0.3436 - accuracy: 0.8536\n",
            "Epoch 68/100\n",
            "24/24 [==============================] - 0s 1ms/step - loss: 0.3760 - accuracy: 0.8520\n",
            "Epoch 69/100\n",
            "24/24 [==============================] - 0s 1ms/step - loss: 0.3460 - accuracy: 0.8633\n",
            "Epoch 70/100\n",
            "24/24 [==============================] - 0s 1ms/step - loss: 0.4723 - accuracy: 0.7839\n",
            "Epoch 71/100\n",
            "24/24 [==============================] - 0s 1ms/step - loss: 0.3969 - accuracy: 0.8449\n",
            "Epoch 72/100\n",
            "24/24 [==============================] - 0s 1ms/step - loss: 0.3480 - accuracy: 0.8661\n",
            "Epoch 73/100\n",
            "24/24 [==============================] - 0s 2ms/step - loss: 0.3959 - accuracy: 0.8370\n",
            "Epoch 74/100\n",
            "24/24 [==============================] - 0s 1ms/step - loss: 0.3664 - accuracy: 0.8470\n",
            "Epoch 75/100\n",
            "24/24 [==============================] - 0s 1ms/step - loss: 0.3285 - accuracy: 0.9134\n",
            "Epoch 76/100\n",
            "24/24 [==============================] - 0s 1ms/step - loss: 0.3845 - accuracy: 0.8440\n",
            "Epoch 77/100\n",
            "24/24 [==============================] - 0s 1ms/step - loss: 0.3836 - accuracy: 0.8334\n",
            "Epoch 78/100\n",
            "24/24 [==============================] - 0s 1ms/step - loss: 0.3710 - accuracy: 0.8532\n",
            "Epoch 79/100\n",
            "24/24 [==============================] - 0s 1ms/step - loss: 0.3960 - accuracy: 0.8631\n",
            "Epoch 80/100\n",
            "24/24 [==============================] - 0s 1ms/step - loss: 0.3255 - accuracy: 0.8948\n",
            "Epoch 81/100\n",
            "24/24 [==============================] - 0s 1ms/step - loss: 0.3484 - accuracy: 0.8713\n",
            "Epoch 82/100\n",
            "24/24 [==============================] - 0s 1ms/step - loss: 0.3663 - accuracy: 0.8555\n",
            "Epoch 83/100\n",
            "24/24 [==============================] - 0s 1ms/step - loss: 0.3639 - accuracy: 0.8463\n",
            "Epoch 84/100\n",
            "24/24 [==============================] - 0s 1ms/step - loss: 0.4076 - accuracy: 0.8558\n",
            "Epoch 85/100\n",
            "24/24 [==============================] - 0s 1ms/step - loss: 0.3347 - accuracy: 0.8844\n",
            "Epoch 86/100\n",
            "24/24 [==============================] - 0s 1ms/step - loss: 0.4001 - accuracy: 0.8552\n",
            "Epoch 87/100\n",
            "24/24 [==============================] - 0s 1ms/step - loss: 0.3842 - accuracy: 0.8670\n",
            "Epoch 88/100\n",
            "24/24 [==============================] - 0s 1ms/step - loss: 0.3338 - accuracy: 0.8896\n",
            "Epoch 89/100\n",
            "24/24 [==============================] - 0s 1ms/step - loss: 0.3821 - accuracy: 0.8312\n",
            "Epoch 90/100\n",
            "24/24 [==============================] - 0s 1ms/step - loss: 0.3738 - accuracy: 0.8450\n",
            "Epoch 91/100\n",
            "24/24 [==============================] - 0s 1ms/step - loss: 0.3611 - accuracy: 0.8420\n",
            "Epoch 92/100\n",
            "24/24 [==============================] - 0s 1ms/step - loss: 0.3711 - accuracy: 0.8427\n",
            "Epoch 93/100\n",
            "24/24 [==============================] - 0s 1ms/step - loss: 0.4116 - accuracy: 0.8072\n",
            "Epoch 94/100\n",
            "24/24 [==============================] - 0s 1ms/step - loss: 0.3664 - accuracy: 0.8547\n",
            "Epoch 95/100\n",
            "24/24 [==============================] - 0s 1ms/step - loss: 0.3711 - accuracy: 0.8211\n",
            "Epoch 96/100\n",
            "24/24 [==============================] - 0s 1ms/step - loss: 0.3291 - accuracy: 0.8954\n",
            "Epoch 97/100\n",
            "24/24 [==============================] - 0s 1ms/step - loss: 0.3444 - accuracy: 0.8543\n",
            "Epoch 98/100\n",
            "24/24 [==============================] - 0s 1ms/step - loss: 0.3522 - accuracy: 0.8657\n",
            "Epoch 99/100\n",
            "24/24 [==============================] - 0s 1ms/step - loss: 0.3696 - accuracy: 0.8535\n",
            "Epoch 100/100\n",
            "24/24 [==============================] - 0s 1ms/step - loss: 0.3535 - accuracy: 0.8676\n"
          ],
          "name": "stdout"
        },
        {
          "output_type": "execute_result",
          "data": {
            "text/plain": [
              "<tensorflow.python.keras.callbacks.History at 0x7fd27fc82890>"
            ]
          },
          "metadata": {
            "tags": []
          },
          "execution_count": 60
        }
      ]
    },
    {
      "cell_type": "markdown",
      "metadata": {
        "id": "VoPLZnXbvDjO"
      },
      "source": [
        "### 6. Final Results and Metrics Evaluation"
      ]
    },
    {
      "cell_type": "markdown",
      "metadata": {
        "id": "hUkfMEyZvQLH"
      },
      "source": [
        "The accuracy results we see are for the training data. Now, let us test the performance of both our categorical model and binary model on the test data. \n",
        "\n",
        "To do this, we will make predictions on the test data and calculate performance metrics using Sklearn."
      ]
    },
    {
      "cell_type": "code",
      "metadata": {
        "colab": {
          "base_uri": "https://localhost:8080/"
        },
        "id": "CU8bvbXKvkAi",
        "outputId": "0ef304f3-4853-43e2-c4a7-7f798cdf1ce6"
      },
      "source": [
        "# generating classification report - Categorical Model\n",
        "from sklearn.metrics import classification_report, accuracy_score\n",
        "\n",
        "categorical_pred = np.argmax(model.predict(X_test), axis=1)\n",
        "\n",
        "print('Results for Categorical Model - ')\n",
        "print(accuracy_score(y_test, categorical_pred))\n",
        "print(classification_report(y_test, categorical_pred))"
      ],
      "execution_count": 63,
      "outputs": [
        {
          "output_type": "stream",
          "text": [
            "Results for Categorical Model - \n",
            "0.6333333333333333\n",
            "              precision    recall  f1-score   support\n",
            "\n",
            "           0       0.82      0.91      0.86        34\n",
            "           1       0.29      0.22      0.25         9\n",
            "           2       0.00      0.00      0.00         8\n",
            "           3       0.36      0.62      0.45         8\n",
            "           4       0.00      0.00      0.00         1\n",
            "\n",
            "    accuracy                           0.63        60\n",
            "   macro avg       0.29      0.35      0.31        60\n",
            "weighted avg       0.55      0.63      0.59        60\n",
            "\n"
          ],
          "name": "stdout"
        },
        {
          "output_type": "stream",
          "text": [
            "/usr/local/lib/python3.7/dist-packages/sklearn/metrics/_classification.py:1272: UndefinedMetricWarning: Precision and F-score are ill-defined and being set to 0.0 in labels with no predicted samples. Use `zero_division` parameter to control this behavior.\n",
            "  _warn_prf(average, modifier, msg_start, len(result))\n"
          ],
          "name": "stderr"
        }
      ]
    },
    {
      "cell_type": "code",
      "metadata": {
        "colab": {
          "base_uri": "https://localhost:8080/"
        },
        "id": "-SK56cw3vtDo",
        "outputId": "41bf4d61-b0d2-4e4f-d6d7-0b8cf03f6d0a"
      },
      "source": [
        "# generating classification report - Binary Model \n",
        "binary_pred = np.round(binary_model.predict(X_test)).astype(int)\n",
        "\n",
        "print('Results for Binary Model - ')\n",
        "print(accuracy_score(Y_test_binary, binary_pred))\n",
        "print(classification_report(Y_test_binary, binary_pred))"
      ],
      "execution_count": 62,
      "outputs": [
        {
          "output_type": "stream",
          "text": [
            "Results for Binary Model - \n",
            "0.8166666666666667\n",
            "              precision    recall  f1-score   support\n",
            "\n",
            "           0       0.87      0.79      0.83        34\n",
            "           1       0.76      0.85      0.80        26\n",
            "\n",
            "    accuracy                           0.82        60\n",
            "   macro avg       0.81      0.82      0.82        60\n",
            "weighted avg       0.82      0.82      0.82        60\n",
            "\n"
          ],
          "name": "stdout"
        }
      ]
    },
    {
      "cell_type": "markdown",
      "metadata": {
        "id": "pwnLX-bIwCOl"
      },
      "source": [
        "We observe that our binary model gives better predictions with an average precision, recall, and f1-score of 0.82 respectively as compared to the categorical model."
      ]
    }
  ]
}